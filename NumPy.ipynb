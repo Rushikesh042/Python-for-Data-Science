{
  "nbformat": 4,
  "nbformat_minor": 0,
  "metadata": {
    "colab": {
      "name": "NumPy.ipynb",
      "provenance": [],
      "authorship_tag": "ABX9TyOBHZ/0zITNo/8Gy8YAnTGS",
      "include_colab_link": true
    },
    "kernelspec": {
      "name": "python3",
      "display_name": "Python 3"
    }
  },
  "cells": [
    {
      "cell_type": "markdown",
      "metadata": {
        "id": "view-in-github",
        "colab_type": "text"
      },
      "source": [
        "<a href=\"https://colab.research.google.com/github/Rushikesh042/Python-for-Data-Science/blob/main/NumPy.ipynb\" target=\"_parent\"><img src=\"https://colab.research.google.com/assets/colab-badge.svg\" alt=\"Open In Colab\"/></a>"
      ]
    },
    {
      "cell_type": "code",
      "metadata": {
        "id": "XyXO5Opq9T22",
        "outputId": "51c28904-3200-4680-88bb-ac9301a86948",
        "colab": {
          "base_uri": "https://localhost:8080/"
        }
      },
      "source": [
        "my_list = [1,2,3,4,5]\n",
        "my_list"
      ],
      "execution_count": 2,
      "outputs": [
        {
          "output_type": "execute_result",
          "data": {
            "text/plain": [
              "[1, 2, 3, 4, 5]"
            ]
          },
          "metadata": {
            "tags": []
          },
          "execution_count": 2
        }
      ]
    },
    {
      "cell_type": "code",
      "metadata": {
        "id": "N3mhp9OU-QQV"
      },
      "source": [
        "import numpy as np\n",
        "arr = np.array(my_list)"
      ],
      "execution_count": 3,
      "outputs": []
    },
    {
      "cell_type": "code",
      "metadata": {
        "id": "kVQDULwu-rQ2",
        "outputId": "06fa1108-8348-4391-dbfe-ce0a17cdeccc",
        "colab": {
          "base_uri": "https://localhost:8080/"
        }
      },
      "source": [
        "arr"
      ],
      "execution_count": 4,
      "outputs": [
        {
          "output_type": "execute_result",
          "data": {
            "text/plain": [
              "array([1, 2, 3, 4, 5])"
            ]
          },
          "metadata": {
            "tags": []
          },
          "execution_count": 4
        }
      ]
    },
    {
      "cell_type": "code",
      "metadata": {
        "id": "6Aclyi2--sFY"
      },
      "source": [
        "my_mat = [[1,2,3],[4,5,6],[3,4,5]]\n",
        "arra = np.array(my_mat)"
      ],
      "execution_count": 6,
      "outputs": []
    },
    {
      "cell_type": "code",
      "metadata": {
        "id": "VGW7hZ66_APN",
        "outputId": "b50f98f2-b498-4d86-e100-fe4158376bb5",
        "colab": {
          "base_uri": "https://localhost:8080/"
        }
      },
      "source": [
        "arra"
      ],
      "execution_count": 7,
      "outputs": [
        {
          "output_type": "execute_result",
          "data": {
            "text/plain": [
              "array([[1, 2, 3],\n",
              "       [4, 5, 6],\n",
              "       [3, 4, 5]])"
            ]
          },
          "metadata": {
            "tags": []
          },
          "execution_count": 7
        }
      ]
    },
    {
      "cell_type": "code",
      "metadata": {
        "id": "f5AtC6EB_aLH",
        "outputId": "7b3424a3-38b8-4acb-f5f1-6b9e56dc250d",
        "colab": {
          "base_uri": "https://localhost:8080/"
        }
      },
      "source": [
        "import numpy as np\n",
        "np.arange(0,10,2)"
      ],
      "execution_count": 12,
      "outputs": [
        {
          "output_type": "execute_result",
          "data": {
            "text/plain": [
              "array([0, 2, 4, 6, 8])"
            ]
          },
          "metadata": {
            "tags": []
          },
          "execution_count": 12
        }
      ]
    },
    {
      "cell_type": "code",
      "metadata": {
        "id": "sU-20f6mDhGo",
        "outputId": "bf9f3973-655b-4e23-d223-76c659a27445",
        "colab": {
          "base_uri": "https://localhost:8080/"
        }
      },
      "source": [
        " np.zeros((3,3))"
      ],
      "execution_count": 14,
      "outputs": [
        {
          "output_type": "execute_result",
          "data": {
            "text/plain": [
              "array([[0., 0., 0.],\n",
              "       [0., 0., 0.],\n",
              "       [0., 0., 0.]])"
            ]
          },
          "metadata": {
            "tags": []
          },
          "execution_count": 14
        }
      ]
    },
    {
      "cell_type": "code",
      "metadata": {
        "id": "Zup9KnMkf_Vq",
        "outputId": "7e29ce1a-9f7c-45a9-e79a-c33d422c2389",
        "colab": {
          "base_uri": "https://localhost:8080/"
        }
      },
      "source": [
        "np.ones(4)"
      ],
      "execution_count": 15,
      "outputs": [
        {
          "output_type": "execute_result",
          "data": {
            "text/plain": [
              "array([1., 1., 1., 1.])"
            ]
          },
          "metadata": {
            "tags": []
          },
          "execution_count": 15
        }
      ]
    },
    {
      "cell_type": "code",
      "metadata": {
        "id": "25U-Vp6KgGXl",
        "outputId": "27599ef7-af7d-4f0c-b4a8-b7a2a66f92f2",
        "colab": {
          "base_uri": "https://localhost:8080/"
        }
      },
      "source": [
        "np.ones((4,4))"
      ],
      "execution_count": 17,
      "outputs": [
        {
          "output_type": "execute_result",
          "data": {
            "text/plain": [
              "array([[1., 1., 1., 1.],\n",
              "       [1., 1., 1., 1.],\n",
              "       [1., 1., 1., 1.],\n",
              "       [1., 1., 1., 1.]])"
            ]
          },
          "metadata": {
            "tags": []
          },
          "execution_count": 17
        }
      ]
    },
    {
      "cell_type": "code",
      "metadata": {
        "id": "GbSNo61EgJRt",
        "outputId": "0e803f7c-790f-47d7-fc7b-76a7aa6b12ac",
        "colab": {
          "base_uri": "https://localhost:8080/"
        }
      },
      "source": [
        "arr = np.linspace(0,5,10)\n",
        "arr\n"
      ],
      "execution_count": 21,
      "outputs": [
        {
          "output_type": "execute_result",
          "data": {
            "text/plain": [
              "array([0.        , 0.55555556, 1.11111111, 1.66666667, 2.22222222,\n",
              "       2.77777778, 3.33333333, 3.88888889, 4.44444444, 5.        ])"
            ]
          },
          "metadata": {
            "tags": []
          },
          "execution_count": 21
        }
      ]
    },
    {
      "cell_type": "code",
      "metadata": {
        "id": "SQ2Bcw7cgX-c",
        "outputId": "5ca6b524-5a02-488d-dafd-59d10768dac7",
        "colab": {
          "base_uri": "https://localhost:8080/"
        }
      },
      "source": [
        "np.eye(3,3)"
      ],
      "execution_count": 23,
      "outputs": [
        {
          "output_type": "execute_result",
          "data": {
            "text/plain": [
              "array([[1., 0., 0.],\n",
              "       [0., 1., 0.],\n",
              "       [0., 0., 1.]])"
            ]
          },
          "metadata": {
            "tags": []
          },
          "execution_count": 23
        }
      ]
    },
    {
      "cell_type": "code",
      "metadata": {
        "id": "V8FCD4z1hAOg",
        "outputId": "1fb0dc49-c0b9-4eb5-f3a4-fe2acb84fd14",
        "colab": {
          "base_uri": "https://localhost:8080/"
        }
      },
      "source": [
        "np.random.rand(5)"
      ],
      "execution_count": 24,
      "outputs": [
        {
          "output_type": "execute_result",
          "data": {
            "text/plain": [
              "array([0.12123785, 0.1296326 , 0.96648545, 0.13419826, 0.11931753])"
            ]
          },
          "metadata": {
            "tags": []
          },
          "execution_count": 24
        }
      ]
    },
    {
      "cell_type": "code",
      "metadata": {
        "id": "1d2MPhszhJvz",
        "outputId": "d8aff194-a185-4df6-db31-8d4b8bc60874",
        "colab": {
          "base_uri": "https://localhost:8080/"
        }
      },
      "source": [
        "np.random.rand(5,5)"
      ],
      "execution_count": 25,
      "outputs": [
        {
          "output_type": "execute_result",
          "data": {
            "text/plain": [
              "array([[0.4541459 , 0.96609759, 0.98021973, 0.04784538, 0.99723002],\n",
              "       [0.57558111, 0.76887238, 0.97498118, 0.77552232, 0.19131581],\n",
              "       [0.31056511, 0.95801755, 0.56463918, 0.58874879, 0.78726375],\n",
              "       [0.06508786, 0.1764578 , 0.34076835, 0.33988173, 0.22941242],\n",
              "       [0.53551404, 0.19754358, 0.4895726 , 0.24834211, 0.18030763]])"
            ]
          },
          "metadata": {
            "tags": []
          },
          "execution_count": 25
        }
      ]
    },
    {
      "cell_type": "code",
      "metadata": {
        "id": "7lJhIBwYhOtD",
        "outputId": "f47ee6cc-db4c-44dd-8ba9-2ba1f7ff4433",
        "colab": {
          "base_uri": "https://localhost:8080/"
        }
      },
      "source": [
        "np.random.randn(5)"
      ],
      "execution_count": 26,
      "outputs": [
        {
          "output_type": "execute_result",
          "data": {
            "text/plain": [
              "array([ 0.20554577,  1.96581337, -0.89170452, -0.39914328, -0.32946831])"
            ]
          },
          "metadata": {
            "tags": []
          },
          "execution_count": 26
        }
      ]
    },
    {
      "cell_type": "code",
      "metadata": {
        "id": "OZHS8n4GhYRm",
        "outputId": "635c33f7-4bb3-49b2-9646-f595387008e1",
        "colab": {
          "base_uri": "https://localhost:8080/"
        }
      },
      "source": [
        "np.random.randn(5,5)"
      ],
      "execution_count": 27,
      "outputs": [
        {
          "output_type": "execute_result",
          "data": {
            "text/plain": [
              "array([[ 1.03843549, -2.45767943, -0.37145032,  1.02794058,  0.89615266],\n",
              "       [ 0.29395481,  0.39641093,  1.6305608 ,  1.25339349,  0.30097026],\n",
              "       [-1.58766044,  0.38640709,  1.18400319, -1.06256675,  0.11967087],\n",
              "       [-1.4174255 ,  0.42962459, -0.55387247, -0.57687257, -0.00293683],\n",
              "       [ 0.19812809,  0.89461698,  0.86169343,  1.06578116,  0.34601372]])"
            ]
          },
          "metadata": {
            "tags": []
          },
          "execution_count": 27
        }
      ]
    },
    {
      "cell_type": "code",
      "metadata": {
        "id": "n3gRgRathc7H",
        "outputId": "7e5d6da9-11b5-46a9-ecf4-85ca1b4fcdcc",
        "colab": {
          "base_uri": "https://localhost:8080/"
        }
      },
      "source": [
        "arr = np.random.randint(1,100,10)"
      ],
      "execution_count": 28,
      "outputs": [
        {
          "output_type": "execute_result",
          "data": {
            "text/plain": [
              "array([ 9,  5, 45, 98, 77,  8, 71, 49, 70, 90])"
            ]
          },
          "metadata": {
            "tags": []
          },
          "execution_count": 28
        }
      ]
    },
    {
      "cell_type": "code",
      "metadata": {
        "id": "89kRRnJ1hlwm",
        "outputId": "9eef015c-2139-45dd-c9a0-c0d0ffd81a38",
        "colab": {
          "base_uri": "https://localhost:8080/"
        }
      },
      "source": [
        "arr.reshape(2,5)"
      ],
      "execution_count": 42,
      "outputs": [
        {
          "output_type": "execute_result",
          "data": {
            "text/plain": [
              "array([[0.        , 0.55555556, 1.11111111, 1.66666667, 2.22222222],\n",
              "       [2.77777778, 3.33333333, 3.88888889, 4.44444444, 5.        ]])"
            ]
          },
          "metadata": {
            "tags": []
          },
          "execution_count": 42
        }
      ]
    },
    {
      "cell_type": "code",
      "metadata": {
        "id": "4Fo07-luhuMn",
        "outputId": "dd143445-3d53-4020-f179-5b1b900fb152",
        "colab": {
          "base_uri": "https://localhost:8080/"
        }
      },
      "source": [
        "arr.max()"
      ],
      "execution_count": 35,
      "outputs": [
        {
          "output_type": "execute_result",
          "data": {
            "text/plain": [
              "5.0"
            ]
          },
          "metadata": {
            "tags": []
          },
          "execution_count": 35
        }
      ]
    },
    {
      "cell_type": "code",
      "metadata": {
        "id": "5Ni_oT98hy9h",
        "outputId": "aecf575b-86ee-4bcb-fcfc-f5436a7c9f23",
        "colab": {
          "base_uri": "https://localhost:8080/"
        }
      },
      "source": [
        "arr.min()"
      ],
      "execution_count": 43,
      "outputs": [
        {
          "output_type": "execute_result",
          "data": {
            "text/plain": [
              "0.0"
            ]
          },
          "metadata": {
            "tags": []
          },
          "execution_count": 43
        }
      ]
    },
    {
      "cell_type": "code",
      "metadata": {
        "id": "pDevGERtjHwQ",
        "outputId": "0b0c14c1-9fe0-49d8-b32f-357eb4e4f402",
        "colab": {
          "base_uri": "https://localhost:8080/"
        }
      },
      "source": [
        "arr.argmax()"
      ],
      "execution_count": 44,
      "outputs": [
        {
          "output_type": "execute_result",
          "data": {
            "text/plain": [
              "9"
            ]
          },
          "metadata": {
            "tags": []
          },
          "execution_count": 44
        }
      ]
    },
    {
      "cell_type": "code",
      "metadata": {
        "id": "E7KsIpugjLwY",
        "outputId": "24d85ba5-000f-4769-c1c2-54a197fdfde4",
        "colab": {
          "base_uri": "https://localhost:8080/"
        }
      },
      "source": [
        "arr.argmin()"
      ],
      "execution_count": 45,
      "outputs": [
        {
          "output_type": "execute_result",
          "data": {
            "text/plain": [
              "0"
            ]
          },
          "metadata": {
            "tags": []
          },
          "execution_count": 45
        }
      ]
    },
    {
      "cell_type": "code",
      "metadata": {
        "id": "1clVPQzEjN2Z",
        "outputId": "7ad2d8b4-a306-42c1-e4a5-dd08110d81ea",
        "colab": {
          "base_uri": "https://localhost:8080/"
        }
      },
      "source": [
        "arr.shape"
      ],
      "execution_count": 47,
      "outputs": [
        {
          "output_type": "execute_result",
          "data": {
            "text/plain": [
              "(10,)"
            ]
          },
          "metadata": {
            "tags": []
          },
          "execution_count": 47
        }
      ]
    },
    {
      "cell_type": "code",
      "metadata": {
        "id": "8H_xwkbejRaA",
        "outputId": "de2e2562-07e6-4cd5-a702-dd99d9c527ca",
        "colab": {
          "base_uri": "https://localhost:8080/"
        }
      },
      "source": [
        "arr.dtype"
      ],
      "execution_count": 49,
      "outputs": [
        {
          "output_type": "execute_result",
          "data": {
            "text/plain": [
              "dtype('float64')"
            ]
          },
          "metadata": {
            "tags": []
          },
          "execution_count": 49
        }
      ]
    },
    {
      "cell_type": "code",
      "metadata": {
        "id": "kD-bShcOjWMA",
        "outputId": "fcb88d74-34c0-4ae1-881b-3f959396a7fc",
        "colab": {
          "base_uri": "https://localhost:8080/"
        }
      },
      "source": [
        "arr = arr + 100\n",
        "arr"
      ],
      "execution_count": 51,
      "outputs": [
        {
          "output_type": "execute_result",
          "data": {
            "text/plain": [
              "array([200.        , 200.55555556, 201.11111111, 201.66666667,\n",
              "       202.22222222, 202.77777778, 203.33333333, 203.88888889,\n",
              "       204.44444444, 205.        ])"
            ]
          },
          "metadata": {
            "tags": []
          },
          "execution_count": 51
        }
      ]
    },
    {
      "cell_type": "code",
      "metadata": {
        "id": "2bcIupS8jedP"
      },
      "source": [
        ""
      ],
      "execution_count": null,
      "outputs": []
    }
  ]
}